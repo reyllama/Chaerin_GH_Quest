{
 "cells": [
  {
   "cell_type": "code",
   "execution_count": 1,
   "metadata": {},
   "outputs": [],
   "source": [
    "from sklearn.datasets import load_breast_cancer\n",
    "data = load_breast_cancer()\n",
    "from sklearn.linear_model import LogisticRegression\n",
    "from sklearn.metrics import auc\n",
    "from sklearn.metrics import roc_curve\n",
    "from sklearn.metrics import roc_auc_score\n",
    "from sklearn.model_selection import train_test_split\n",
    "from random import randint\n",
    "k = randint(1,100)"
   ]
  },
  {
   "cell_type": "code",
   "execution_count": 2,
   "metadata": {},
   "outputs": [
    {
     "data": {
      "text/plain": [
       "dict_keys(['data', 'target', 'target_names', 'DESCR', 'feature_names', 'filename'])"
      ]
     },
     "execution_count": 2,
     "metadata": {},
     "output_type": "execute_result"
    }
   ],
   "source": [
    "data.keys()"
   ]
  },
  {
   "cell_type": "code",
   "execution_count": 3,
   "metadata": {},
   "outputs": [
    {
     "data": {
      "text/plain": [
       "array(['mean radius', 'mean texture', 'mean perimeter', 'mean area',\n",
       "       'mean smoothness', 'mean compactness', 'mean concavity',\n",
       "       'mean concave points', 'mean symmetry', 'mean fractal dimension',\n",
       "       'radius error', 'texture error', 'perimeter error', 'area error',\n",
       "       'smoothness error', 'compactness error', 'concavity error',\n",
       "       'concave points error', 'symmetry error',\n",
       "       'fractal dimension error', 'worst radius', 'worst texture',\n",
       "       'worst perimeter', 'worst area', 'worst smoothness',\n",
       "       'worst compactness', 'worst concavity', 'worst concave points',\n",
       "       'worst symmetry', 'worst fractal dimension'], dtype='<U23')"
      ]
     },
     "execution_count": 3,
     "metadata": {},
     "output_type": "execute_result"
    }
   ],
   "source": [
    "data.feature_names"
   ]
  },
  {
   "cell_type": "code",
   "execution_count": 4,
   "metadata": {},
   "outputs": [
    {
     "data": {
      "text/plain": [
       "array([[17.99, 10.38],\n",
       "       [20.57, 17.77],\n",
       "       [19.69, 21.25],\n",
       "       ...,\n",
       "       [16.6 , 28.08],\n",
       "       [20.6 , 29.33],\n",
       "       [ 7.76, 24.54]])"
      ]
     },
     "execution_count": 4,
     "metadata": {},
     "output_type": "execute_result"
    }
   ],
   "source": [
    "quest_data = data.data[:,:2]\n",
    "quest_data"
   ]
  },
  {
   "cell_type": "code",
   "execution_count": 5,
   "metadata": {},
   "outputs": [],
   "source": [
    "reg = LogisticRegression()"
   ]
  },
  {
   "cell_type": "code",
   "execution_count": 6,
   "metadata": {},
   "outputs": [
    {
     "data": {
      "text/plain": [
       "array([[ 9.667, 18.49 ],\n",
       "       [11.52 , 18.75 ],\n",
       "       [13.71 , 18.68 ],\n",
       "       [14.19 , 23.81 ],\n",
       "       [12.68 , 23.84 ],\n",
       "       [12.78 , 16.49 ],\n",
       "       [11.94 , 20.76 ],\n",
       "       [13.85 , 15.18 ],\n",
       "       [16.13 , 17.88 ],\n",
       "       [14.47 , 24.99 ],\n",
       "       [11.87 , 21.54 ],\n",
       "       [19.17 , 24.8  ],\n",
       "       [10.88 , 15.62 ],\n",
       "       [13.87 , 20.7  ],\n",
       "       [13.62 , 23.23 ],\n",
       "       [11.27 , 15.5  ],\n",
       "       [13.64 , 15.6  ],\n",
       "       [11.74 , 14.69 ],\n",
       "       [19.53 , 18.9  ],\n",
       "       [10.26 , 14.71 ],\n",
       "       [12.46 , 12.83 ],\n",
       "       [13.11 , 15.56 ],\n",
       "       [20.09 , 23.86 ],\n",
       "       [17.19 , 22.07 ],\n",
       "       [19.45 , 19.33 ],\n",
       "       [13.61 , 24.69 ],\n",
       "       [14.42 , 16.54 ],\n",
       "       [10.48 , 14.98 ],\n",
       "       [17.6  , 23.33 ],\n",
       "       [14.58 , 13.66 ],\n",
       "       [ 8.734, 16.84 ],\n",
       "       [14.44 , 15.18 ],\n",
       "       [12.4  , 17.68 ],\n",
       "       [11.08 , 18.83 ],\n",
       "       [ 8.618, 11.79 ],\n",
       "       [15.34 , 14.26 ],\n",
       "       [11.28 , 13.39 ],\n",
       "       [11.34 , 18.61 ],\n",
       "       [11.71 , 17.19 ],\n",
       "       [11.81 , 17.39 ],\n",
       "       [11.06 , 14.83 ],\n",
       "       [19.8  , 21.56 ],\n",
       "       [17.99 , 20.66 ],\n",
       "       [14.29 , 16.82 ],\n",
       "       [12.2  , 15.21 ],\n",
       "       [17.46 , 39.28 ],\n",
       "       [11.89 , 21.17 ],\n",
       "       [ 9.173, 13.86 ],\n",
       "       [12.34 , 14.95 ],\n",
       "       [12.3  , 15.9  ],\n",
       "       [14.69 , 13.98 ],\n",
       "       [20.44 , 21.78 ],\n",
       "       [21.09 , 26.57 ],\n",
       "       [16.17 , 16.07 ],\n",
       "       [11.95 , 14.96 ],\n",
       "       [14.42 , 19.77 ],\n",
       "       [10.49 , 19.29 ],\n",
       "       [14.59 , 22.68 ],\n",
       "       [11.15 , 13.08 ],\n",
       "       [13.64 , 16.34 ],\n",
       "       [12.63 , 20.76 ],\n",
       "       [16.26 , 21.88 ],\n",
       "       [11.14 , 14.07 ],\n",
       "       [14.97 , 19.76 ],\n",
       "       [13.85 , 19.6  ],\n",
       "       [ 8.571, 13.1  ],\n",
       "       [10.32 , 16.35 ],\n",
       "       [18.63 , 25.11 ],\n",
       "       [15.53 , 33.56 ],\n",
       "       [13.51 , 18.89 ],\n",
       "       [15.61 , 19.38 ],\n",
       "       [10.96 , 17.62 ],\n",
       "       [14.8  , 17.66 ],\n",
       "       [17.35 , 23.06 ],\n",
       "       [12.16 , 18.03 ],\n",
       "       [11.5  , 18.45 ],\n",
       "       [11.33 , 14.16 ],\n",
       "       [10.71 , 20.39 ],\n",
       "       [11.62 , 18.18 ],\n",
       "       [16.03 , 15.51 ],\n",
       "       [12.86 , 13.32 ],\n",
       "       [11.9  , 14.65 ],\n",
       "       [13.59 , 17.84 ],\n",
       "       [20.48 , 21.46 ],\n",
       "       [15.49 , 19.97 ],\n",
       "       [15.73 , 11.28 ],\n",
       "       [13.44 , 21.58 ],\n",
       "       [20.2  , 26.83 ],\n",
       "       [12.87 , 19.54 ],\n",
       "       [11.6  , 18.36 ],\n",
       "       [12.05 , 14.63 ],\n",
       "       [11.31 , 19.04 ],\n",
       "       [14.58 , 21.53 ],\n",
       "       [ 8.878, 15.49 ],\n",
       "       [13.11 , 22.54 ],\n",
       "       [19.59 , 25.   ],\n",
       "       [12.98 , 19.35 ],\n",
       "       [13.3  , 21.57 ],\n",
       "       [13.47 , 14.06 ],\n",
       "       [12.22 , 20.04 ],\n",
       "       [17.75 , 28.03 ],\n",
       "       [13.   , 20.78 ],\n",
       "       [12.7  , 12.17 ],\n",
       "       [15.75 , 20.25 ],\n",
       "       [ 9.683, 19.34 ],\n",
       "       [12.23 , 19.56 ],\n",
       "       [19.4  , 23.5  ],\n",
       "       [12.07 , 13.44 ],\n",
       "       [ 9.405, 21.7  ],\n",
       "       [16.35 , 23.29 ],\n",
       "       [12.81 , 13.06 ],\n",
       "       [12.83 , 22.33 ],\n",
       "       [12.21 , 18.02 ],\n",
       "       [21.71 , 17.25 ],\n",
       "       [13.81 , 23.75 ],\n",
       "       [12.62 , 17.15 ],\n",
       "       [14.22 , 27.85 ],\n",
       "       [ 9.72 , 18.22 ],\n",
       "       [11.49 , 14.59 ],\n",
       "       [14.53 , 19.34 ],\n",
       "       [15.32 , 17.27 ],\n",
       "       [13.68 , 16.33 ],\n",
       "       [19.02 , 24.59 ],\n",
       "       [12.96 , 18.29 ],\n",
       "       [11.32 , 27.08 ],\n",
       "       [12.31 , 16.52 ],\n",
       "       [16.6  , 28.08 ],\n",
       "       [14.45 , 20.22 ],\n",
       "       [10.26 , 16.58 ],\n",
       "       [13.5  , 12.71 ],\n",
       "       [11.45 , 20.97 ],\n",
       "       [16.11 , 18.05 ],\n",
       "       [25.22 , 24.91 ],\n",
       "       [10.25 , 16.18 ],\n",
       "       [17.54 , 19.32 ],\n",
       "       [14.87 , 16.67 ],\n",
       "       [15.   , 15.51 ],\n",
       "       [12.46 , 19.89 ],\n",
       "       [13.59 , 21.84 ],\n",
       "       [10.6  , 18.95 ],\n",
       "       [13.9  , 19.24 ],\n",
       "       [13.24 , 20.13 ],\n",
       "       [20.57 , 17.77 ],\n",
       "       [11.43 , 17.31 ],\n",
       "       [13.2  , 17.43 ],\n",
       "       [12.72 , 13.78 ],\n",
       "       [15.5  , 21.08 ],\n",
       "       [19.44 , 18.82 ],\n",
       "       [15.1  , 22.02 ],\n",
       "       [12.54 , 18.07 ],\n",
       "       [14.27 , 22.55 ],\n",
       "       [17.05 , 19.08 ],\n",
       "       [14.74 , 25.42 ],\n",
       "       [11.3  , 18.19 ],\n",
       "       [13.77 , 22.29 ],\n",
       "       [11.13 , 16.62 ],\n",
       "       [15.19 , 13.21 ],\n",
       "       [13.03 , 18.42 ],\n",
       "       [21.61 , 22.28 ],\n",
       "       [13.17 , 18.66 ],\n",
       "       [13.43 , 19.63 ],\n",
       "       [12.49 , 16.85 ],\n",
       "       [17.08 , 27.15 ],\n",
       "       [15.78 , 17.89 ],\n",
       "       [11.52 , 14.93 ],\n",
       "       [14.22 , 23.12 ],\n",
       "       [ 8.726, 15.83 ],\n",
       "       [15.78 , 22.91 ],\n",
       "       [12.42 , 15.04 ],\n",
       "       [ 9.755, 28.2  ],\n",
       "       [12.   , 15.65 ],\n",
       "       [11.51 , 23.93 ],\n",
       "       [10.82 , 24.21 ],\n",
       "       [13.61 , 24.98 ],\n",
       "       [18.81 , 19.98 ],\n",
       "       [12.62 , 23.97 ],\n",
       "       [13.46 , 18.75 ],\n",
       "       [13.78 , 15.79 ],\n",
       "       [14.78 , 23.94 ],\n",
       "       [12.46 , 24.04 ],\n",
       "       [12.32 , 12.39 ],\n",
       "       [15.05 , 19.07 ],\n",
       "       [17.06 , 21.   ],\n",
       "       [18.31 , 20.58 ],\n",
       "       [ 9.606, 16.84 ],\n",
       "       [10.8  ,  9.71 ],\n",
       "       [14.86 , 16.94 ],\n",
       "       [11.6  , 12.84 ],\n",
       "       [18.65 , 17.6  ],\n",
       "       [12.05 , 22.72 ],\n",
       "       [14.62 , 24.02 ],\n",
       "       [13.96 , 17.05 ],\n",
       "       [ 7.729, 25.49 ],\n",
       "       [11.41 , 10.82 ],\n",
       "       [12.9  , 15.92 ],\n",
       "       [11.74 , 14.02 ],\n",
       "       [19.59 , 18.15 ],\n",
       "       [17.68 , 20.74 ],\n",
       "       [14.9  , 22.53 ],\n",
       "       [10.44 , 15.46 ],\n",
       "       [12.86 , 18.   ],\n",
       "       [17.93 , 24.48 ],\n",
       "       [16.14 , 14.86 ],\n",
       "       [12.1  , 17.72 ],\n",
       "       [14.03 , 21.25 ],\n",
       "       [11.71 , 16.67 ],\n",
       "       [10.48 , 19.86 ],\n",
       "       [13.7  , 17.64 ],\n",
       "       [23.27 , 22.04 ],\n",
       "       [15.27 , 12.91 ],\n",
       "       [13.65 , 13.16 ],\n",
       "       [11.94 , 18.24 ],\n",
       "       [14.02 , 15.66 ],\n",
       "       [15.28 , 22.41 ],\n",
       "       [19.55 , 28.77 ],\n",
       "       [12.36 , 21.8  ],\n",
       "       [11.57 , 19.04 ],\n",
       "       [12.47 , 18.6  ],\n",
       "       [13.05 , 18.59 ],\n",
       "       [11.84 , 18.7  ],\n",
       "       [10.08 , 15.11 ],\n",
       "       [16.3  , 15.7  ],\n",
       "       [16.24 , 18.77 ],\n",
       "       [13.9  , 16.62 ],\n",
       "       [15.1  , 16.39 ],\n",
       "       [12.89 , 14.11 ],\n",
       "       [14.53 , 13.98 ],\n",
       "       [13.17 , 21.81 ],\n",
       "       [13.14 , 20.74 ],\n",
       "       [12.89 , 15.7  ],\n",
       "       [13.01 , 22.22 ],\n",
       "       [12.18 , 14.08 ],\n",
       "       [14.4  , 26.99 ],\n",
       "       [12.99 , 14.23 ],\n",
       "       [11.47 , 16.03 ],\n",
       "       [13.   , 25.13 ],\n",
       "       [13.75 , 23.77 ],\n",
       "       [14.41 , 19.73 ],\n",
       "       [14.92 , 14.93 ],\n",
       "       [18.46 , 18.52 ],\n",
       "       [13.48 , 20.82 ],\n",
       "       [11.27 , 12.96 ],\n",
       "       [10.51 , 20.19 ],\n",
       "       [13.37 , 16.39 ],\n",
       "       [13.98 , 19.62 ],\n",
       "       [ 9.397, 21.68 ],\n",
       "       [18.22 , 18.7  ],\n",
       "       [ 9.567, 15.91 ],\n",
       "       [15.46 , 23.95 ],\n",
       "       [14.61 , 15.69 ],\n",
       "       [17.42 , 25.56 ],\n",
       "       [21.1  , 20.52 ],\n",
       "       [19.   , 18.91 ],\n",
       "       [17.99 , 10.38 ],\n",
       "       [20.59 , 21.24 ],\n",
       "       [21.16 , 23.04 ],\n",
       "       [15.37 , 22.76 ],\n",
       "       [10.16 , 19.59 ],\n",
       "       [12.45 , 16.41 ],\n",
       "       [14.81 , 14.7  ],\n",
       "       [12.83 , 15.73 ],\n",
       "       [13.21 , 25.25 ],\n",
       "       [17.27 , 25.42 ],\n",
       "       [15.13 , 29.81 ],\n",
       "       [11.04 , 14.93 ],\n",
       "       [19.69 , 21.25 ],\n",
       "       [12.3  , 19.02 ],\n",
       "       [11.34 , 21.26 ],\n",
       "       [18.01 , 20.56 ],\n",
       "       [15.46 , 11.89 ],\n",
       "       [19.27 , 26.47 ],\n",
       "       [ 9.787, 19.94 ],\n",
       "       [14.48 , 21.46 ],\n",
       "       [20.34 , 21.51 ],\n",
       "       [12.77 , 21.41 ],\n",
       "       [14.71 , 21.59 ],\n",
       "       [15.06 , 19.83 ],\n",
       "       [19.1  , 26.29 ],\n",
       "       [ 9.268, 12.87 ],\n",
       "       [10.17 , 14.88 ],\n",
       "       [15.04 , 16.74 ],\n",
       "       [20.47 , 20.67 ],\n",
       "       [13.28 , 20.28 ],\n",
       "       [20.16 , 19.66 ],\n",
       "       [14.6  , 23.29 ],\n",
       "       [11.8  , 16.58 ],\n",
       "       [12.06 , 18.9  ],\n",
       "       [14.96 , 19.1  ],\n",
       "       [13.08 , 15.71 ],\n",
       "       [ 9.742, 19.12 ],\n",
       "       [15.08 , 25.74 ],\n",
       "       [12.18 , 17.84 ],\n",
       "       [15.46 , 19.48 ],\n",
       "       [12.04 , 28.14 ],\n",
       "       [18.49 , 17.52 ],\n",
       "       [24.25 , 20.2  ],\n",
       "       [19.55 , 23.21 ],\n",
       "       [11.26 , 19.96 ],\n",
       "       [20.73 , 31.12 ],\n",
       "       [11.75 , 17.56 ],\n",
       "       [17.85 , 13.23 ],\n",
       "       [11.22 , 33.81 ],\n",
       "       [14.97 , 16.95 ],\n",
       "       [19.19 , 15.94 ],\n",
       "       [ 9.876, 17.27 ],\n",
       "       [16.46 , 20.11 ],\n",
       "       [19.89 , 20.26 ],\n",
       "       [16.84 , 19.46 ],\n",
       "       [20.26 , 23.03 ],\n",
       "       [13.66 , 15.15 ],\n",
       "       [10.05 , 17.53 ],\n",
       "       [14.86 , 23.21 ],\n",
       "       [16.02 , 23.24 ],\n",
       "       [13.77 , 13.27 ],\n",
       "       [12.76 , 13.37 ],\n",
       "       [10.51 , 23.09 ],\n",
       "       [ 9.668, 18.1  ],\n",
       "       [15.3  , 25.27 ],\n",
       "       [19.81 , 22.15 ],\n",
       "       [11.61 , 16.02 ],\n",
       "       [12.87 , 16.21 ],\n",
       "       [12.54 , 16.32 ],\n",
       "       [15.85 , 23.95 ],\n",
       "       [20.18 , 23.97 ],\n",
       "       [20.94 , 23.56 ],\n",
       "       [17.29 , 22.13 ],\n",
       "       [20.29 , 14.34 ],\n",
       "       [20.31 , 27.06 ],\n",
       "       [12.34 , 12.27 ],\n",
       "       [17.57 , 15.05 ],\n",
       "       [13.56 , 13.9  ],\n",
       "       [18.31 , 18.58 ],\n",
       "       [11.67 , 20.02 ],\n",
       "       [13.   , 21.82 ],\n",
       "       [12.67 , 17.3  ],\n",
       "       [14.76 , 14.74 ],\n",
       "       [20.13 , 28.25 ],\n",
       "       [16.13 , 20.68 ],\n",
       "       [11.54 , 10.72 ],\n",
       "       [15.7  , 20.31 ],\n",
       "       [14.34 , 13.47 ],\n",
       "       [12.36 , 18.54 ],\n",
       "       [11.06 , 17.12 ],\n",
       "       [18.25 , 19.98 ],\n",
       "       [11.71 , 15.45 ],\n",
       "       [11.76 , 18.14 ],\n",
       "       [12.95 , 16.02 ],\n",
       "       [17.91 , 21.02 ],\n",
       "       [13.8  , 15.79 ],\n",
       "       [12.47 , 17.31 ],\n",
       "       [10.29 , 27.61 ],\n",
       "       [12.85 , 21.37 ],\n",
       "       [11.99 , 24.89 ],\n",
       "       [12.94 , 16.17 ],\n",
       "       [11.85 , 17.46 ],\n",
       "       [19.73 , 19.82 ],\n",
       "       [10.97 , 17.2  ],\n",
       "       [23.29 , 26.67 ],\n",
       "       [10.95 , 21.35 ],\n",
       "       [14.99 , 25.2  ],\n",
       "       [14.64 , 15.24 ],\n",
       "       [11.69 , 24.44 ],\n",
       "       [16.78 , 18.8  ],\n",
       "       [14.25 , 22.15 ],\n",
       "       [16.07 , 19.65 ],\n",
       "       [11.6  , 24.49 ],\n",
       "       [10.66 , 15.15 ],\n",
       "       [12.76 , 18.84 ],\n",
       "       [13.82 , 24.49 ],\n",
       "       [11.43 , 15.39 ],\n",
       "       [13.71 , 20.83 ],\n",
       "       [16.16 , 21.54 ],\n",
       "       [11.42 , 20.38 ],\n",
       "       [21.56 , 22.39 ],\n",
       "       [11.41 , 14.92 ],\n",
       "       [17.3  , 17.08 ],\n",
       "       [20.55 , 20.86 ],\n",
       "       [11.06 , 14.96 ],\n",
       "       [13.28 , 13.72 ],\n",
       "       [13.46 , 28.21 ],\n",
       "       [11.37 , 18.89 ],\n",
       "       [12.75 , 16.7  ],\n",
       "       [14.64 , 16.85 ],\n",
       "       [12.34 , 26.86 ],\n",
       "       [14.87 , 20.21 ],\n",
       "       [27.42 , 26.27 ],\n",
       "       [16.65 , 21.38 ],\n",
       "       [ 7.691, 25.44 ],\n",
       "       [12.43 , 17.   ],\n",
       "       [ 9.   , 14.4  ],\n",
       "       [ 9.738, 11.97 ],\n",
       "       [13.66 , 19.13 ],\n",
       "       [12.72 , 17.67 ],\n",
       "       [17.95 , 20.01 ],\n",
       "       [25.73 , 17.46 ],\n",
       "       [17.47 , 24.68 ],\n",
       "       [14.11 , 12.88 ],\n",
       "       [14.26 , 19.65 ],\n",
       "       [27.22 , 21.87 ],\n",
       "       [10.57 , 18.32 ],\n",
       "       [15.22 , 30.62 ],\n",
       "       [18.77 , 21.43 ],\n",
       "       [14.95 , 18.77 ],\n",
       "       [13.53 , 10.94 ],\n",
       "       [10.86 , 21.48 ],\n",
       "       [14.68 , 20.13 ],\n",
       "       [12.77 , 29.43 ],\n",
       "       [ 9.847, 15.68 ],\n",
       "       [20.64 , 17.35 ],\n",
       "       [10.49 , 18.61 ],\n",
       "       [19.21 , 18.57 ],\n",
       "       [ 8.671, 14.45 ],\n",
       "       [ 8.219, 20.7  ],\n",
       "       [11.8  , 17.26 ],\n",
       "       [12.06 , 12.74 ],\n",
       "       [10.94 , 18.59 ],\n",
       "       [11.89 , 18.35 ],\n",
       "       [10.2  , 17.48 ],\n",
       "       [13.05 , 13.84 ],\n",
       "       [11.93 , 10.91 ],\n",
       "       [12.   , 28.23 ],\n",
       "       [11.75 , 20.18 ],\n",
       "       [18.05 , 16.15 ],\n",
       "       [12.18 , 20.52 ],\n",
       "       [20.18 , 19.54 ],\n",
       "       [ 9.042, 18.9  ]])"
      ]
     },
     "execution_count": 6,
     "metadata": {},
     "output_type": "execute_result"
    }
   ],
   "source": [
    "features_train, features_test, labels_train, labels_test = train_test_split(quest_data, data.target, random_state=k)\n",
    "features_train"
   ]
  },
  {
   "cell_type": "code",
   "execution_count": 7,
   "metadata": {},
   "outputs": [
    {
     "name": "stderr",
     "output_type": "stream",
     "text": [
      "C:\\Users\\rin46\\Anaconda3\\envs\\py3\\lib\\site-packages\\sklearn\\linear_model\\logistic.py:433: FutureWarning: Default solver will be changed to 'lbfgs' in 0.22. Specify a solver to silence this warning.\n",
      "  FutureWarning)\n"
     ]
    },
    {
     "data": {
      "text/plain": [
       "LogisticRegression(C=1.0, class_weight=None, dual=False, fit_intercept=True,\n",
       "          intercept_scaling=1, max_iter=100, multi_class='warn',\n",
       "          n_jobs=None, penalty='l2', random_state=None, solver='warn',\n",
       "          tol=0.0001, verbose=0, warm_start=False)"
      ]
     },
     "execution_count": 7,
     "metadata": {},
     "output_type": "execute_result"
    }
   ],
   "source": [
    "reg.fit(features_train, labels_train)"
   ]
  },
  {
   "cell_type": "code",
   "execution_count": 8,
   "metadata": {},
   "outputs": [],
   "source": [
    "import matplotlib.pyplot as plt\n",
    "%matplotlib inline"
   ]
  },
  {
   "cell_type": "code",
   "execution_count": 9,
   "metadata": {},
   "outputs": [],
   "source": [
    "labels_score = reg.decision_function(features_test)"
   ]
  },
  {
   "cell_type": "code",
   "execution_count": 10,
   "metadata": {},
   "outputs": [],
   "source": [
    "roc_auc = roc_auc_score(labels_test, labels_score)"
   ]
  },
  {
   "cell_type": "code",
   "execution_count": 11,
   "metadata": {},
   "outputs": [
    {
     "data": {
      "image/png": "[encoded data removed]",
      "text/plain": [
       "<Figure size 432x288 with 1 Axes>"
      ]
     },
     "metadata": {
      "needs_background": "light"
     },
     "output_type": "display_data"
    }
   ],
   "source": [
    "fpr, tpr, thresholds = roc_curve(labels_test, labels_score)\n",
    "\n",
    "plt.figure()\n",
    "plt.plot(fpr, tpr, lw=2, color='darkorange', label='ROC curve (area = %0.2f)' % roc_auc)\n",
    "plt.plot([0, 1], [0, 1], color='navy', lw=2, linestyle='--')\n",
    "plt.xlim([0.0, 1.0])\n",
    "plt.ylim([0.0, 1.05])\n",
    "plt.xlabel('False Positive Rate = Recall')\n",
    "plt.ylabel('True Positive Rate = Sensitivity')\n",
    "plt.title('ROC curve')\n",
    "plt.legend(loc=\"lower right\")\n",
    "plt.show()"
   ]
  },
  {
   "cell_type": "code",
   "execution_count": 12,
   "metadata": {},
   "outputs": [],
   "source": [
    "from sklearn.svm import SVC\n"
   ]
  },
  {
   "cell_type": "code",
   "execution_count": 13,
   "metadata": {},
   "outputs": [
    {
     "data": {
      "text/plain": [
       "SVC(C=1000, cache_size=200, class_weight=None, coef0=0.0,\n",
       "  decision_function_shape='ovr', degree=3, gamma='auto', kernel='linear',\n",
       "  max_iter=-1, probability=False, random_state=None, shrinking=True,\n",
       "  tol=0.001, verbose=False)"
      ]
     },
     "execution_count": 13,
     "metadata": {},
     "output_type": "execute_result"
    }
   ],
   "source": [
    "svc_clf = SVC(C=1000, kernel='linear', gamma='auto')\n",
    "svc_clf.fit(features_train, labels_train)"
   ]
  },
  {
   "cell_type": "code",
   "execution_count": 14,
   "metadata": {},
   "outputs": [],
   "source": [
    "labels_score = reg.decision_function(features_test)"
   ]
  },
  {
   "cell_type": "code",
   "execution_count": 15,
   "metadata": {},
   "outputs": [],
   "source": [
    "svc_roc_auc = roc_auc_score(labels_test, labels_score)"
   ]
  },
  {
   "cell_type": "code",
   "execution_count": 16,
   "metadata": {},
   "outputs": [
    {
     "data": {
      "image/png": "[encoded data removed]",
      "text/plain": [
       "<Figure size 432x288 with 1 Axes>"
      ]
     },
     "metadata": {
      "needs_background": "light"
     },
     "output_type": "display_data"
    }
   ],
   "source": [
    "fpr, tpr, thresholds = roc_curve(labels_test, labels_score)\n",
    "\n",
    "plt.figure()\n",
    "plt.plot(fpr, tpr, lw=2, color='darkorange', label='ROC curve (area = %0.2f)' % roc_auc)\n",
    "plt.plot([0, 1], [0, 1], color='navy', lw=2, linestyle='--')\n",
    "plt.xlim([0.0, 1.0])\n",
    "plt.ylim([0.0, 1.05])\n",
    "plt.xlabel('False Positive Rate = Recall')\n",
    "plt.ylabel('True Positive Rate = Sensitivity')\n",
    "plt.title('ROC curve')\n",
    "plt.legend(loc=\"lower right\")\n",
    "plt.show()"
   ]
  },
  {
   "cell_type": "code",
   "execution_count": 19,
   "metadata": {},
   "outputs": [],
   "source": [
    "param_grid = {'C':[0.1, 1, 10, 100, 1000, 10000], 'kernel':['linear', 'rbf']}"
   ]
  },
  {
   "cell_type": "code",
   "execution_count": 20,
   "metadata": {},
   "outputs": [
    {
     "name": "stdout",
     "output_type": "stream",
     "text": [
      "최적의 파라미터:  {'C': 10000, 'kernel': 'linear'}\n",
      "최고 성능 모델:  SVC(C=10000, cache_size=200, class_weight=None, coef0=0.0,\n",
      "  decision_function_shape='ovr', degree=3, gamma='auto', kernel='linear',\n",
      "  max_iter=-1, probability=False, random_state=None, shrinking=True,\n",
      "  tol=0.001, verbose=False)\n",
      "최고 교차검증 점수: 0.89\n"
     ]
    }
   ],
   "source": [
    "from sklearn.model_selection import GridSearchCV\n",
    "\n",
    "grid_search = GridSearchCV(svc_clf, param_grid, cv=5) # 보통 교차검증을 사용한 그리드 서치를 시행!\n",
    "# GridSearchCV(모델, 파라미터 딕셔너리)\n",
    "grid_search.fit(features_train, labels_train)\n",
    "\n",
    "print('최적의 파라미터: ', grid_search.best_params_)\n",
    "print('최고 성능 모델: ', grid_search.best_estimator_)\n",
    "print('최고 교차검증 점수: {:.2f}'.format(grid_search.best_score_))"
   ]
  },
  {
   "cell_type": "code",
   "execution_count": null,
   "metadata": {},
   "outputs": [],
   "source": [
    "#### 최고 교차검증 점수 0.89 ####"
   ]
  }
 ],
 "metadata": {
  "kernelspec": {
   "display_name": "Python 3",
   "language": "python",
   "name": "python3"
  },
  "language_info": {
   "codemirror_mode": {
    "name": "ipython",
    "version": 3
   },
   "file_extension": ".py",
   "mimetype": "text/x-python",
   "name": "python",
   "nbconvert_exporter": "python",
   "pygments_lexer": "ipython3",
   "version": "3.7.2"
  }
 },
 "nbformat": 4,
 "nbformat_minor": 2
}
